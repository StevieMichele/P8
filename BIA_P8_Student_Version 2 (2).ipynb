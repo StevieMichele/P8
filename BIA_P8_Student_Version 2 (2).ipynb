{
 "cells": [
  {
   "cell_type": "markdown",
   "id": "8ea5dde0",
   "metadata": {},
   "source": [
    "# OpenClassrooms - parcours Data Analyst Business Intelligence - P8"
   ]
  },
  {
   "cell_type": "markdown",
   "id": "54cde67e",
   "metadata": {},
   "source": [
    "# Milestone 1 - Analyse des données"
   ]
  },
  {
   "cell_type": "markdown",
   "id": "10c1c891",
   "metadata": {},
   "source": [
    "Dans cette partie nous allons analyser le jeu de données que nous avons à notre disposition. Notre objectif est de comprendre les relations entre les variables, et surtout, celles qui influent sur le prix des transactions immobilières. Grâce à ce travail, nous pourrons ne conserver que les variables qui seront utiles à l'apprentissage de notre algorithme."
   ]
  },
  {
   "cell_type": "markdown",
   "id": "0536dfdf",
   "metadata": {},
   "source": [
    "## 1.Type des données"
   ]
  },
  {
   "cell_type": "markdown",
   "id": "a2a6c7c1",
   "metadata": {},
   "source": [
    "La première étape à réaliser est d'importer les données dans le notebook et d'opérer des transformations sur les variables si celles-ci s'imposent (exemple : nettoyage ou changement de type des variables, etc.)."
   ]
  },
  {
   "cell_type": "code",
   "execution_count": 1,
   "id": "8a4de40f",
   "metadata": {},
   "outputs": [],
   "source": [
    "#On importe les librairies que nous utiliserons pour traiter les données et les visualiser\n",
    "import pandas as pd, numpy as np, matplotlib.pyplot as plt\n",
    "# N'oubliez pas d'avoir installé les librairies pandas, numpy et matplotlib via la commande pip"
   ]
  },
  {
   "cell_type": "code",
   "execution_count": 2,
   "id": "3e71411f",
   "metadata": {},
   "outputs": [],
   "source": [
    "import os"
   ]
  },
  {
   "cell_type": "code",
   "execution_count": 3,
   "id": "2b99aa5c",
   "metadata": {},
   "outputs": [
    {
     "name": "stdout",
     "output_type": "stream",
     "text": [
      "C:\\Users\\doung\n"
     ]
    }
   ],
   "source": [
    "print (os.getcwd())"
   ]
  },
  {
   "cell_type": "code",
   "execution_count": 4,
   "id": "0a33a158",
   "metadata": {},
   "outputs": [],
   "source": [
    "os.chdir(r\"C:\\Users\\doung\\Documents\\Michèle\\OPENCLASSROOMS - DATA ANALYST\\P8\")"
   ]
  },
  {
   "cell_type": "code",
   "execution_count": 5,
   "id": "fbd25df5",
   "metadata": {},
   "outputs": [],
   "source": [
    "pd.set_option('display.max_columns', None)"
   ]
  },
  {
   "cell_type": "code",
   "execution_count": 6,
   "id": "86477b14",
   "metadata": {},
   "outputs": [],
   "source": [
    "pd.set_option('display.float_format', '{:.2f}'.format)"
   ]
  },
  {
   "cell_type": "code",
   "execution_count": 7,
   "id": "9b43d9e3",
   "metadata": {},
   "outputs": [],
   "source": [
    "#On importe les données dans un dataframe\n",
    "data_historique = pd.read_excel(\"historique_immobilier_paris.xlsx\")\n",
    "data_portefeuille = pd.read_excel(\"portefeuille_actifs.xlsx\")"
   ]
  },
  {
   "cell_type": "markdown",
   "id": "70dc6974",
   "metadata": {},
   "source": [
    "Attention, si l'opération ci-dessus ne marche pas, il se peut que le package \"openpyxl\" ne soit pas présent sur votre ordinateur. Si c'est le cas vous pouvez l'installer en éxécutant la commande : pip install openpyxl ou conda install openpyxl."
   ]
  },
  {
   "cell_type": "code",
   "execution_count": 8,
   "id": "3655b793",
   "metadata": {
    "scrolled": true
   },
   "outputs": [
    {
     "data": {
      "text/html": [
       "<div>\n",
       "<style scoped>\n",
       "    .dataframe tbody tr th:only-of-type {\n",
       "        vertical-align: middle;\n",
       "    }\n",
       "\n",
       "    .dataframe tbody tr th {\n",
       "        vertical-align: top;\n",
       "    }\n",
       "\n",
       "    .dataframe thead th {\n",
       "        text-align: right;\n",
       "    }\n",
       "</style>\n",
       "<table border=\"1\" class=\"dataframe\">\n",
       "  <thead>\n",
       "    <tr style=\"text-align: right;\">\n",
       "      <th></th>\n",
       "      <th>date_mutation</th>\n",
       "      <th>valeur_fonciere</th>\n",
       "      <th>adresse_numero</th>\n",
       "      <th>adresse_nom_voie</th>\n",
       "      <th>code_postal</th>\n",
       "      <th>nom_commune</th>\n",
       "      <th>code_type_local</th>\n",
       "      <th>type_local</th>\n",
       "      <th>surface_reelle</th>\n",
       "      <th>Prix_m2</th>\n",
       "    </tr>\n",
       "  </thead>\n",
       "  <tbody>\n",
       "    <tr>\n",
       "      <th>0</th>\n",
       "      <td>2017-01-03</td>\n",
       "      <td>550559.68</td>\n",
       "      <td>8</td>\n",
       "      <td>RUE DES COUTURES SAINT GERVAIS</td>\n",
       "      <td>75003</td>\n",
       "      <td>Paris 3e Arrondissement</td>\n",
       "      <td>2</td>\n",
       "      <td>Appartement</td>\n",
       "      <td>50</td>\n",
       "      <td>11011.19</td>\n",
       "    </tr>\n",
       "    <tr>\n",
       "      <th>1</th>\n",
       "      <td>2017-01-12</td>\n",
       "      <td>1576492.46</td>\n",
       "      <td>32</td>\n",
       "      <td>AV MARCEAU</td>\n",
       "      <td>75008</td>\n",
       "      <td>Paris 8e Arrondissement</td>\n",
       "      <td>2</td>\n",
       "      <td>Appartement</td>\n",
       "      <td>163</td>\n",
       "      <td>9671.73</td>\n",
       "    </tr>\n",
       "    <tr>\n",
       "      <th>2</th>\n",
       "      <td>2017-01-10</td>\n",
       "      <td>657757.36</td>\n",
       "      <td>52</td>\n",
       "      <td>RUE DU FAUBOURG SAINT HONORE</td>\n",
       "      <td>75008</td>\n",
       "      <td>Paris 8e Arrondissement</td>\n",
       "      <td>2</td>\n",
       "      <td>Appartement</td>\n",
       "      <td>66</td>\n",
       "      <td>9966.02</td>\n",
       "    </tr>\n",
       "    <tr>\n",
       "      <th>3</th>\n",
       "      <td>2017-01-10</td>\n",
       "      <td>250086.82</td>\n",
       "      <td>64</td>\n",
       "      <td>RUE DU VERTBOIS</td>\n",
       "      <td>75003</td>\n",
       "      <td>Paris 3e Arrondissement</td>\n",
       "      <td>2</td>\n",
       "      <td>Appartement</td>\n",
       "      <td>22</td>\n",
       "      <td>11367.58</td>\n",
       "    </tr>\n",
       "    <tr>\n",
       "      <th>4</th>\n",
       "      <td>2017-01-13</td>\n",
       "      <td>176266.71</td>\n",
       "      <td>25</td>\n",
       "      <td>RUE DES LAVANDIERES STE OPPORT</td>\n",
       "      <td>75001</td>\n",
       "      <td>Paris 1er Arrondissement</td>\n",
       "      <td>2</td>\n",
       "      <td>Appartement</td>\n",
       "      <td>15</td>\n",
       "      <td>11751.11</td>\n",
       "    </tr>\n",
       "  </tbody>\n",
       "</table>\n",
       "</div>"
      ],
      "text/plain": [
       "  date_mutation  valeur_fonciere  adresse_numero  \\\n",
       "0    2017-01-03        550559.68               8   \n",
       "1    2017-01-12       1576492.46              32   \n",
       "2    2017-01-10        657757.36              52   \n",
       "3    2017-01-10        250086.82              64   \n",
       "4    2017-01-13        176266.71              25   \n",
       "\n",
       "                 adresse_nom_voie  code_postal               nom_commune  \\\n",
       "0  RUE DES COUTURES SAINT GERVAIS        75003   Paris 3e Arrondissement   \n",
       "1                      AV MARCEAU        75008   Paris 8e Arrondissement   \n",
       "2    RUE DU FAUBOURG SAINT HONORE        75008   Paris 8e Arrondissement   \n",
       "3                 RUE DU VERTBOIS        75003   Paris 3e Arrondissement   \n",
       "4  RUE DES LAVANDIERES STE OPPORT        75001  Paris 1er Arrondissement   \n",
       "\n",
       "   code_type_local   type_local  surface_reelle  Prix_m2  \n",
       "0                2  Appartement              50 11011.19  \n",
       "1                2  Appartement             163  9671.73  \n",
       "2                2  Appartement              66  9966.02  \n",
       "3                2  Appartement              22 11367.58  \n",
       "4                2  Appartement              15 11751.11  "
      ]
     },
     "execution_count": 8,
     "metadata": {},
     "output_type": "execute_result"
    }
   ],
   "source": [
    "#On vérifie que le type des données attribué par pandas est cohérent\n",
    "data_historique.head()"
   ]
  },
  {
   "cell_type": "code",
   "execution_count": 9,
   "id": "627916ac",
   "metadata": {},
   "outputs": [
    {
     "data": {
      "text/html": [
       "<div>\n",
       "<style scoped>\n",
       "    .dataframe tbody tr th:only-of-type {\n",
       "        vertical-align: middle;\n",
       "    }\n",
       "\n",
       "    .dataframe tbody tr th {\n",
       "        vertical-align: top;\n",
       "    }\n",
       "\n",
       "    .dataframe thead th {\n",
       "        text-align: right;\n",
       "    }\n",
       "</style>\n",
       "<table border=\"1\" class=\"dataframe\">\n",
       "  <thead>\n",
       "    <tr style=\"text-align: right;\">\n",
       "      <th></th>\n",
       "      <th>adresse_numero</th>\n",
       "      <th>adresse_nom_voie</th>\n",
       "      <th>code_postal</th>\n",
       "      <th>code_commune</th>\n",
       "      <th>nom_commune</th>\n",
       "      <th>surface_carrez</th>\n",
       "      <th>code_type_local</th>\n",
       "      <th>type_local</th>\n",
       "      <th>surface_reelle_bati</th>\n",
       "      <th>nombre_pieces_principales</th>\n",
       "      <th>longitude</th>\n",
       "      <th>latitude</th>\n",
       "    </tr>\n",
       "  </thead>\n",
       "  <tbody>\n",
       "    <tr>\n",
       "      <th>0</th>\n",
       "      <td>127</td>\n",
       "      <td>RUE SAINT-DENIS</td>\n",
       "      <td>75001</td>\n",
       "      <td>75101</td>\n",
       "      <td>Paris 1er Arrondissement</td>\n",
       "      <td>16.41</td>\n",
       "      <td>2</td>\n",
       "      <td>Appartement</td>\n",
       "      <td>25</td>\n",
       "      <td>1</td>\n",
       "      <td>2.35</td>\n",
       "      <td>48.86</td>\n",
       "    </tr>\n",
       "    <tr>\n",
       "      <th>1</th>\n",
       "      <td>62</td>\n",
       "      <td>RUE NOTRE-DAME DE NAZARETH</td>\n",
       "      <td>75003</td>\n",
       "      <td>75103</td>\n",
       "      <td>Paris 3e Arrondissement</td>\n",
       "      <td>20.47</td>\n",
       "      <td>2</td>\n",
       "      <td>Appartement</td>\n",
       "      <td>22</td>\n",
       "      <td>1</td>\n",
       "      <td>2.36</td>\n",
       "      <td>48.87</td>\n",
       "    </tr>\n",
       "    <tr>\n",
       "      <th>2</th>\n",
       "      <td>62</td>\n",
       "      <td>RUE DE TURENNE</td>\n",
       "      <td>75003</td>\n",
       "      <td>75103</td>\n",
       "      <td>Paris 3e Arrondissement</td>\n",
       "      <td>64.48</td>\n",
       "      <td>2</td>\n",
       "      <td>Appartement</td>\n",
       "      <td>65</td>\n",
       "      <td>3</td>\n",
       "      <td>2.36</td>\n",
       "      <td>48.86</td>\n",
       "    </tr>\n",
       "    <tr>\n",
       "      <th>3</th>\n",
       "      <td>32</td>\n",
       "      <td>AV GEORGE V</td>\n",
       "      <td>75008</td>\n",
       "      <td>75108</td>\n",
       "      <td>Paris 8e Arrondissement</td>\n",
       "      <td>63.29</td>\n",
       "      <td>2</td>\n",
       "      <td>Appartement</td>\n",
       "      <td>74</td>\n",
       "      <td>2</td>\n",
       "      <td>2.30</td>\n",
       "      <td>48.87</td>\n",
       "    </tr>\n",
       "    <tr>\n",
       "      <th>4</th>\n",
       "      <td>152</td>\n",
       "      <td>BD HAUSSMANN</td>\n",
       "      <td>75008</td>\n",
       "      <td>75108</td>\n",
       "      <td>Paris 8e Arrondissement</td>\n",
       "      <td>20.58</td>\n",
       "      <td>2</td>\n",
       "      <td>Appartement</td>\n",
       "      <td>22</td>\n",
       "      <td>1</td>\n",
       "      <td>2.31</td>\n",
       "      <td>48.88</td>\n",
       "    </tr>\n",
       "  </tbody>\n",
       "</table>\n",
       "</div>"
      ],
      "text/plain": [
       "   adresse_numero            adresse_nom_voie  code_postal  code_commune  \\\n",
       "0             127             RUE SAINT-DENIS        75001         75101   \n",
       "1              62  RUE NOTRE-DAME DE NAZARETH        75003         75103   \n",
       "2              62              RUE DE TURENNE        75003         75103   \n",
       "3              32                 AV GEORGE V        75008         75108   \n",
       "4             152                BD HAUSSMANN        75008         75108   \n",
       "\n",
       "                nom_commune  surface_carrez  code_type_local   type_local  \\\n",
       "0  Paris 1er Arrondissement           16.41                2  Appartement   \n",
       "1   Paris 3e Arrondissement           20.47                2  Appartement   \n",
       "2   Paris 3e Arrondissement           64.48                2  Appartement   \n",
       "3   Paris 8e Arrondissement           63.29                2  Appartement   \n",
       "4   Paris 8e Arrondissement           20.58                2  Appartement   \n",
       "\n",
       "   surface_reelle_bati  nombre_pieces_principales  longitude  latitude  \n",
       "0                   25                          1       2.35     48.86  \n",
       "1                   22                          1       2.36     48.87  \n",
       "2                   65                          3       2.36     48.86  \n",
       "3                   74                          2       2.30     48.87  \n",
       "4                   22                          1       2.31     48.88  "
      ]
     },
     "execution_count": 9,
     "metadata": {},
     "output_type": "execute_result"
    }
   ],
   "source": [
    "data_portefeuille.head()"
   ]
  },
  {
   "cell_type": "markdown",
   "id": "71c6c622",
   "metadata": {},
   "source": [
    "### 2. Regardons les différents types de biens immobiliers que nous avons dans nos données :"
   ]
  },
  {
   "cell_type": "code",
   "execution_count": 10,
   "id": "746ed1b1",
   "metadata": {},
   "outputs": [
    {
     "name": "stdout",
     "output_type": "stream",
     "text": [
      "la liste des différents types de biens immobiliers que nous avons dans les données est :\n",
      "['Appartement' 'Local industriel. commercial ou assimilé']\n"
     ]
    }
   ],
   "source": [
    "types_biens = data_historique['type_local'].unique()\n",
    "\n",
    "print('la liste des différents types de biens immobiliers que nous avons dans les données est :')\n",
    "print(types_biens)"
   ]
  },
  {
   "cell_type": "code",
   "execution_count": 11,
   "id": "ad68eca4",
   "metadata": {},
   "outputs": [
    {
     "name": "stdout",
     "output_type": "stream",
     "text": [
      "la liste des différents types de biens immobiliers que nous avons dans les données est :\n",
      "[2 4]\n"
     ]
    }
   ],
   "source": [
    "code_type_local = data_historique['code_type_local'].unique()\n",
    "\n",
    "print('la liste des différents types de biens immobiliers que nous avons dans les données est :')\n",
    "print(code_type_local)"
   ]
  },
  {
   "cell_type": "markdown",
   "id": "f38e5dd1",
   "metadata": {},
   "source": [
    "On observe qu'il y a 2 types de biens, et que leurs codes types sont 2 et 4. "
   ]
  },
  {
   "cell_type": "markdown",
   "id": "6416e560",
   "metadata": {},
   "source": [
    "### 3. Nombre de transactions"
   ]
  },
  {
   "cell_type": "code",
   "execution_count": 12,
   "id": "d27c307b",
   "metadata": {},
   "outputs": [
    {
     "name": "stdout",
     "output_type": "stream",
     "text": [
      "le nombre de transactions dans les données est :\n",
      "26196\n",
      "le nombre de transactions pour les appartements dans les données est :\n",
      "24353\n",
      "le nombre de transactions pour les locaux commerciaux dans les données est :\n",
      "1843\n"
     ]
    }
   ],
   "source": [
    "#On verifie le nombre de transactions que nous avons dans notre dataframe\n",
    "\n",
    "nombre_transactions = data_historique.shape[0]\n",
    "print('le nombre de transactions dans les données est :') \n",
    "print(nombre_transactions)\n",
    "\n",
    "appartements = data_historique[data_historique['type_local'] == 'Appartement']\n",
    "nombre_transactions_appartements = appartements.shape[0]\n",
    "print('le nombre de transactions pour les appartements dans les données est :')\n",
    "print(nombre_transactions_appartements)\n",
    "\n",
    "locaux_commerciaux = data_historique[data_historique['type_local'] == 'Local industriel. commercial ou assimilé']\n",
    "nombre_transactions_locaux_commerciaux = locaux_commerciaux.shape[0]\n",
    "print('le nombre de transactions pour les locaux commerciaux dans les données est :')\n",
    "print(nombre_transactions_locaux_commerciaux)"
   ]
  },
  {
   "cell_type": "markdown",
   "id": "4601fdac",
   "metadata": {},
   "source": [
    "### 4. interval de l'historique des données"
   ]
  },
  {
   "cell_type": "code",
   "execution_count": 13,
   "id": "023ef741",
   "metadata": {},
   "outputs": [
    {
     "name": "stdout",
     "output_type": "stream",
     "text": [
      "la première date de transaction dans les données est le \n",
      "2017-01-02 00:00:00\n",
      "la dernière date de transaction dans les données est le \n",
      "2021-12-31 00:00:00\n"
     ]
    }
   ],
   "source": [
    "#On vérifie également la plage de l'historique disponible\n",
    "\n",
    "data_historique['date_mutation'] = pd.to_datetime(data_historique['date_mutation'])\n",
    "premiere_date_transaction = data_historique['date_mutation'].min()\n",
    "print('la première date de transaction dans les données est le ')\n",
    "print(premiere_date_transaction)\n",
    "\n",
    "derniere_date_transaction = data_historique['date_mutation'].max()\n",
    "print('la dernière date de transaction dans les données est le ')\n",
    "print(derniere_date_transaction)"
   ]
  },
  {
   "cell_type": "markdown",
   "id": "92964843",
   "metadata": {},
   "source": [
    "## Commençons à analyser les données"
   ]
  },
  {
   "cell_type": "markdown",
   "id": "ae74642d",
   "metadata": {},
   "source": [
    "Maintenant nous allons analyser les données historiques pour les 2 différents types de biens immobiliers en essayant d'identifier les relations entre les variables. Mais avant cela, il nous faudra pouvoir comparer les biens entre eux, et pour cela nous allons créer une colonne du prix au metre carré."
   ]
  },
  {
   "cell_type": "code",
   "execution_count": 14,
   "id": "933c010b",
   "metadata": {},
   "outputs": [
    {
     "data": {
      "text/html": [
       "<div>\n",
       "<style scoped>\n",
       "    .dataframe tbody tr th:only-of-type {\n",
       "        vertical-align: middle;\n",
       "    }\n",
       "\n",
       "    .dataframe tbody tr th {\n",
       "        vertical-align: top;\n",
       "    }\n",
       "\n",
       "    .dataframe thead th {\n",
       "        text-align: right;\n",
       "    }\n",
       "</style>\n",
       "<table border=\"1\" class=\"dataframe\">\n",
       "  <thead>\n",
       "    <tr style=\"text-align: right;\">\n",
       "      <th></th>\n",
       "      <th>date_mutation</th>\n",
       "      <th>valeur_fonciere</th>\n",
       "      <th>adresse_numero</th>\n",
       "      <th>adresse_nom_voie</th>\n",
       "      <th>code_postal</th>\n",
       "      <th>nom_commune</th>\n",
       "      <th>code_type_local</th>\n",
       "      <th>type_local</th>\n",
       "      <th>surface_reelle</th>\n",
       "      <th>Prix_m2</th>\n",
       "    </tr>\n",
       "  </thead>\n",
       "  <tbody>\n",
       "    <tr>\n",
       "      <th>0</th>\n",
       "      <td>2017-01-03</td>\n",
       "      <td>550559.68</td>\n",
       "      <td>8</td>\n",
       "      <td>RUE DES COUTURES SAINT GERVAIS</td>\n",
       "      <td>75003</td>\n",
       "      <td>Paris 3e Arrondissement</td>\n",
       "      <td>2</td>\n",
       "      <td>Appartement</td>\n",
       "      <td>50</td>\n",
       "      <td>11011.19</td>\n",
       "    </tr>\n",
       "    <tr>\n",
       "      <th>1</th>\n",
       "      <td>2017-01-12</td>\n",
       "      <td>1576492.46</td>\n",
       "      <td>32</td>\n",
       "      <td>AV MARCEAU</td>\n",
       "      <td>75008</td>\n",
       "      <td>Paris 8e Arrondissement</td>\n",
       "      <td>2</td>\n",
       "      <td>Appartement</td>\n",
       "      <td>163</td>\n",
       "      <td>9671.73</td>\n",
       "    </tr>\n",
       "    <tr>\n",
       "      <th>2</th>\n",
       "      <td>2017-01-10</td>\n",
       "      <td>657757.36</td>\n",
       "      <td>52</td>\n",
       "      <td>RUE DU FAUBOURG SAINT HONORE</td>\n",
       "      <td>75008</td>\n",
       "      <td>Paris 8e Arrondissement</td>\n",
       "      <td>2</td>\n",
       "      <td>Appartement</td>\n",
       "      <td>66</td>\n",
       "      <td>9966.02</td>\n",
       "    </tr>\n",
       "    <tr>\n",
       "      <th>3</th>\n",
       "      <td>2017-01-10</td>\n",
       "      <td>250086.82</td>\n",
       "      <td>64</td>\n",
       "      <td>RUE DU VERTBOIS</td>\n",
       "      <td>75003</td>\n",
       "      <td>Paris 3e Arrondissement</td>\n",
       "      <td>2</td>\n",
       "      <td>Appartement</td>\n",
       "      <td>22</td>\n",
       "      <td>11367.58</td>\n",
       "    </tr>\n",
       "    <tr>\n",
       "      <th>4</th>\n",
       "      <td>2017-01-13</td>\n",
       "      <td>176266.71</td>\n",
       "      <td>25</td>\n",
       "      <td>RUE DES LAVANDIERES STE OPPORT</td>\n",
       "      <td>75001</td>\n",
       "      <td>Paris 1er Arrondissement</td>\n",
       "      <td>2</td>\n",
       "      <td>Appartement</td>\n",
       "      <td>15</td>\n",
       "      <td>11751.11</td>\n",
       "    </tr>\n",
       "  </tbody>\n",
       "</table>\n",
       "</div>"
      ],
      "text/plain": [
       "  date_mutation  valeur_fonciere  adresse_numero  \\\n",
       "0    2017-01-03        550559.68               8   \n",
       "1    2017-01-12       1576492.46              32   \n",
       "2    2017-01-10        657757.36              52   \n",
       "3    2017-01-10        250086.82              64   \n",
       "4    2017-01-13        176266.71              25   \n",
       "\n",
       "                 adresse_nom_voie  code_postal               nom_commune  \\\n",
       "0  RUE DES COUTURES SAINT GERVAIS        75003   Paris 3e Arrondissement   \n",
       "1                      AV MARCEAU        75008   Paris 8e Arrondissement   \n",
       "2    RUE DU FAUBOURG SAINT HONORE        75008   Paris 8e Arrondissement   \n",
       "3                 RUE DU VERTBOIS        75003   Paris 3e Arrondissement   \n",
       "4  RUE DES LAVANDIERES STE OPPORT        75001  Paris 1er Arrondissement   \n",
       "\n",
       "   code_type_local   type_local  surface_reelle  Prix_m2  \n",
       "0                2  Appartement              50 11011.19  \n",
       "1                2  Appartement             163  9671.73  \n",
       "2                2  Appartement              66  9966.02  \n",
       "3                2  Appartement              22 11367.58  \n",
       "4                2  Appartement              15 11751.11  "
      ]
     },
     "execution_count": 14,
     "metadata": {},
     "output_type": "execute_result"
    }
   ],
   "source": [
    "# Calcul de la colonne\n",
    "\n",
    "data_historique['Prix_m2'] = data_historique['valeur_fonciere'] / data_historique['surface_reelle']\n",
    "data_historique.head()"
   ]
  },
  {
   "cell_type": "markdown",
   "id": "1b08d5b8",
   "metadata": {},
   "source": [
    "Maintenant, analysons les appartements."
   ]
  },
  {
   "cell_type": "markdown",
   "id": "e52299e8",
   "metadata": {},
   "source": [
    "### 5. Evolution du prix au metre carré des appartements dans Paris"
   ]
  },
  {
   "cell_type": "code",
   "execution_count": 15,
   "id": "706a3f1e",
   "metadata": {},
   "outputs": [
    {
     "data": {
      "text/html": [
       "<div>\n",
       "<style scoped>\n",
       "    .dataframe tbody tr th:only-of-type {\n",
       "        vertical-align: middle;\n",
       "    }\n",
       "\n",
       "    .dataframe tbody tr th {\n",
       "        vertical-align: top;\n",
       "    }\n",
       "\n",
       "    .dataframe thead th {\n",
       "        text-align: right;\n",
       "    }\n",
       "</style>\n",
       "<table border=\"1\" class=\"dataframe\">\n",
       "  <thead>\n",
       "    <tr style=\"text-align: right;\">\n",
       "      <th></th>\n",
       "      <th>date_mutation</th>\n",
       "      <th>valeur_fonciere</th>\n",
       "      <th>adresse_numero</th>\n",
       "      <th>adresse_nom_voie</th>\n",
       "      <th>code_postal</th>\n",
       "      <th>nom_commune</th>\n",
       "      <th>code_type_local</th>\n",
       "      <th>type_local</th>\n",
       "      <th>surface_reelle</th>\n",
       "      <th>Prix_m2</th>\n",
       "    </tr>\n",
       "  </thead>\n",
       "  <tbody>\n",
       "    <tr>\n",
       "      <th>0</th>\n",
       "      <td>2017-01-03</td>\n",
       "      <td>550559.68</td>\n",
       "      <td>8</td>\n",
       "      <td>RUE DES COUTURES SAINT GERVAIS</td>\n",
       "      <td>75003</td>\n",
       "      <td>Paris 3e Arrondissement</td>\n",
       "      <td>2</td>\n",
       "      <td>Appartement</td>\n",
       "      <td>50</td>\n",
       "      <td>11011.19</td>\n",
       "    </tr>\n",
       "    <tr>\n",
       "      <th>1</th>\n",
       "      <td>2017-01-12</td>\n",
       "      <td>1576492.46</td>\n",
       "      <td>32</td>\n",
       "      <td>AV MARCEAU</td>\n",
       "      <td>75008</td>\n",
       "      <td>Paris 8e Arrondissement</td>\n",
       "      <td>2</td>\n",
       "      <td>Appartement</td>\n",
       "      <td>163</td>\n",
       "      <td>9671.73</td>\n",
       "    </tr>\n",
       "    <tr>\n",
       "      <th>2</th>\n",
       "      <td>2017-01-10</td>\n",
       "      <td>657757.36</td>\n",
       "      <td>52</td>\n",
       "      <td>RUE DU FAUBOURG SAINT HONORE</td>\n",
       "      <td>75008</td>\n",
       "      <td>Paris 8e Arrondissement</td>\n",
       "      <td>2</td>\n",
       "      <td>Appartement</td>\n",
       "      <td>66</td>\n",
       "      <td>9966.02</td>\n",
       "    </tr>\n",
       "    <tr>\n",
       "      <th>3</th>\n",
       "      <td>2017-01-10</td>\n",
       "      <td>250086.82</td>\n",
       "      <td>64</td>\n",
       "      <td>RUE DU VERTBOIS</td>\n",
       "      <td>75003</td>\n",
       "      <td>Paris 3e Arrondissement</td>\n",
       "      <td>2</td>\n",
       "      <td>Appartement</td>\n",
       "      <td>22</td>\n",
       "      <td>11367.58</td>\n",
       "    </tr>\n",
       "    <tr>\n",
       "      <th>4</th>\n",
       "      <td>2017-01-13</td>\n",
       "      <td>176266.71</td>\n",
       "      <td>25</td>\n",
       "      <td>RUE DES LAVANDIERES STE OPPORT</td>\n",
       "      <td>75001</td>\n",
       "      <td>Paris 1er Arrondissement</td>\n",
       "      <td>2</td>\n",
       "      <td>Appartement</td>\n",
       "      <td>15</td>\n",
       "      <td>11751.11</td>\n",
       "    </tr>\n",
       "  </tbody>\n",
       "</table>\n",
       "</div>"
      ],
      "text/plain": [
       "  date_mutation  valeur_fonciere  adresse_numero  \\\n",
       "0    2017-01-03        550559.68               8   \n",
       "1    2017-01-12       1576492.46              32   \n",
       "2    2017-01-10        657757.36              52   \n",
       "3    2017-01-10        250086.82              64   \n",
       "4    2017-01-13        176266.71              25   \n",
       "\n",
       "                 adresse_nom_voie  code_postal               nom_commune  \\\n",
       "0  RUE DES COUTURES SAINT GERVAIS        75003   Paris 3e Arrondissement   \n",
       "1                      AV MARCEAU        75008   Paris 8e Arrondissement   \n",
       "2    RUE DU FAUBOURG SAINT HONORE        75008   Paris 8e Arrondissement   \n",
       "3                 RUE DU VERTBOIS        75003   Paris 3e Arrondissement   \n",
       "4  RUE DES LAVANDIERES STE OPPORT        75001  Paris 1er Arrondissement   \n",
       "\n",
       "   code_type_local   type_local  surface_reelle  Prix_m2  \n",
       "0                2  Appartement              50 11011.19  \n",
       "1                2  Appartement             163  9671.73  \n",
       "2                2  Appartement              66  9966.02  \n",
       "3                2  Appartement              22 11367.58  \n",
       "4                2  Appartement              15 11751.11  "
      ]
     },
     "execution_count": 15,
     "metadata": {},
     "output_type": "execute_result"
    }
   ],
   "source": [
    "#On retire les colonnes qui sont à priori inutiles ET nous allons nous concentrer sur les appartements dans un premier temps\n",
    "\n",
    "data_historique_appartements = data_historique[data_historique['type_local'] == 'Appartement']\n",
    "data_historique_appartements.head()"
   ]
  },
  {
   "cell_type": "code",
   "execution_count": 16,
   "id": "865eca76",
   "metadata": {},
   "outputs": [
    {
     "name": "stderr",
     "output_type": "stream",
     "text": [
      "C:\\Users\\doung\\AppData\\Local\\Temp\\ipykernel_12492\\4274839685.py:3: SettingWithCopyWarning: \n",
      "A value is trying to be set on a copy of a slice from a DataFrame.\n",
      "Try using .loc[row_indexer,col_indexer] = value instead\n",
      "\n",
      "See the caveats in the documentation: https://pandas.pydata.org/pandas-docs/stable/user_guide/indexing.html#returning-a-view-versus-a-copy\n",
      "  data_historique_appartements['annee'] = data_historique_appartements['date_mutation'].dt.year\n"
     ]
    }
   ],
   "source": [
    "#Préparons un dataframe en regroupant les prix moyens de ventes des appartements par année avec la surface moyenne associée\n",
    "\n",
    "data_historique_appartements['annee'] = data_historique_appartements['date_mutation'].dt.year\n",
    "\n",
    "data_prix = data_historique_appartements.groupby('annee').agg({'valeur_fonciere': 'mean', 'surface_reelle': 'mean'})"
   ]
  },
  {
   "cell_type": "code",
   "execution_count": 17,
   "id": "fa58f3d0",
   "metadata": {},
   "outputs": [
    {
     "name": "stdout",
     "output_type": "stream",
     "text": [
      "       prix_moyen  surface_moyenne\n",
      "annee                             \n",
      "2017    427963.24            44.63\n",
      "2018    448055.76            44.27\n",
      "2019    461950.06            43.36\n",
      "2020    462383.25            42.90\n",
      "2021    458771.51            43.48\n"
     ]
    }
   ],
   "source": [
    "data_prix = data_prix.rename(columns={'valeur_fonciere': 'prix_moyen', 'surface_reelle': 'surface_moyenne'})\n",
    "print(data_prix)"
   ]
  },
  {
   "cell_type": "markdown",
   "id": "cb200fe8",
   "metadata": {},
   "source": [
    "On constate sur la moyenne des prix de vente des appartements à Paris qu'ils ont augmenté progressivement au fil des années jusqu'en 2020, atteignant un pic de 462 383 euros en moyenne.\n",
    "En 2021, la moyenne des prix de vente des appartements à Paris était légèrement inférieure à celle de 2020, s'élevant à environ 458 771 euros.\n",
    "Nous allons créer un graphique pour mieux le visualiser."
   ]
  },
  {
   "cell_type": "code",
   "execution_count": 18,
   "id": "acfcd26a",
   "metadata": {
    "scrolled": true
   },
   "outputs": [
    {
     "data": {
      "image/png": "[encoded data removed]",
      "text/plain": [
       "<Figure size 700x300 with 1 Axes>"
      ]
     },
     "metadata": {},
     "output_type": "display_data"
    }
   ],
   "source": [
    "#Création d'un graphique pour visualiser la hausse de la moyenne des prix\n",
    "import matplotlib.pyplot as plt\n",
    "import matplotlib.ticker as ticker\n",
    "plt.figure(figsize=(7,3))\n",
    "plt.plot(data_prix.index, data_prix.values)\n",
    "plt.xlabel('Années de vente des appartements')\n",
    "plt.ylabel('Prix au metre carre des appartements')\n",
    "formatter = ticker.FormatStrFormatter('€%d')\n",
    "plt.gca().yaxis.set_major_formatter(formatter)\n",
    "plt.grid()\n",
    "plt.title('Visualisation de la hausse moyenne des prix des appartements à Paris')\n",
    "plt.show()"
   ]
  },
  {
   "cell_type": "markdown",
   "id": "452fe405",
   "metadata": {},
   "source": [
    "### 6. Différences de prix au metre carré entre les arrondissements"
   ]
  },
  {
   "cell_type": "markdown",
   "id": "d4415dbb",
   "metadata": {},
   "source": [
    "Maintenant nous allons chercher à afficher l'évolution des prix par arrondissement. Vérifions la liste des arrondissements que nous avons dans nos données. Normalement à Paris nous avons 20 codes postaux différents, 1 par arrondissement allant de 75001 à 75020."
   ]
  },
  {
   "cell_type": "code",
   "execution_count": 19,
   "id": "a855fc89",
   "metadata": {},
   "outputs": [
    {
     "name": "stdout",
     "output_type": "stream",
     "text": [
      "[75001, 75002, 75003, 75004, 75005, 75006, 75007, 75008, 75009, 75010, 75011, 75012, 75013, 75014, 75015, 75016, 75017, 75018, 75019, 75020]\n"
     ]
    }
   ],
   "source": [
    "#Liste des codes postaux dans nos données.\n",
    "\n",
    "codes_postaux = sorted(data_historique_appartements['code_postal'].unique())\n",
    "print(codes_postaux)"
   ]
  },
  {
   "cell_type": "code",
   "execution_count": 20,
   "id": "27c2e1b4",
   "metadata": {},
   "outputs": [
    {
     "name": "stderr",
     "output_type": "stream",
     "text": [
      "C:\\Users\\doung\\AppData\\Local\\Temp\\ipykernel_12492\\2378845985.py:3: SettingWithCopyWarning: \n",
      "A value is trying to be set on a copy of a slice from a DataFrame.\n",
      "Try using .loc[row_indexer,col_indexer] = value instead\n",
      "\n",
      "See the caveats in the documentation: https://pandas.pydata.org/pandas-docs/stable/user_guide/indexing.html#returning-a-view-versus-a-copy\n",
      "  data_historique_appartements['code_postal'] = data_historique_appartements['code_postal'].astype(str)\n",
      "C:\\Users\\doung\\AppData\\Local\\Temp\\ipykernel_12492\\2378845985.py:4: SettingWithCopyWarning: \n",
      "A value is trying to be set on a copy of a slice from a DataFrame.\n",
      "Try using .loc[row_indexer,col_indexer] = value instead\n",
      "\n",
      "See the caveats in the documentation: https://pandas.pydata.org/pandas-docs/stable/user_guide/indexing.html#returning-a-view-versus-a-copy\n",
      "  data_historique_appartements['arrondissement'] = data_historique_appartements['code_postal'].str[-2:]\n"
     ]
    }
   ],
   "source": [
    "#Créeons un dataframe pour une deuxième visualisation avec l'evolution des prix par arrondissement\n",
    "\n",
    "data_historique_appartements['code_postal'] = data_historique_appartements['code_postal'].astype(str)\n",
    "data_historique_appartements['arrondissement'] = data_historique_appartements['code_postal'].str[-2:]\n"
   ]
  },
  {
   "cell_type": "code",
   "execution_count": 21,
   "id": "95416da9",
   "metadata": {},
   "outputs": [
    {
     "data": {
      "text/html": [
       "<div>\n",
       "<style scoped>\n",
       "    .dataframe tbody tr th:only-of-type {\n",
       "        vertical-align: middle;\n",
       "    }\n",
       "\n",
       "    .dataframe tbody tr th {\n",
       "        vertical-align: top;\n",
       "    }\n",
       "\n",
       "    .dataframe thead th {\n",
       "        text-align: right;\n",
       "    }\n",
       "</style>\n",
       "<table border=\"1\" class=\"dataframe\">\n",
       "  <thead>\n",
       "    <tr style=\"text-align: right;\">\n",
       "      <th></th>\n",
       "      <th>arrondissement</th>\n",
       "      <th>annee</th>\n",
       "      <th>valeur_fonciere</th>\n",
       "    </tr>\n",
       "  </thead>\n",
       "  <tbody>\n",
       "    <tr>\n",
       "      <th>0</th>\n",
       "      <td>01</td>\n",
       "      <td>2017</td>\n",
       "      <td>530392.41</td>\n",
       "    </tr>\n",
       "    <tr>\n",
       "      <th>1</th>\n",
       "      <td>01</td>\n",
       "      <td>2018</td>\n",
       "      <td>581390.37</td>\n",
       "    </tr>\n",
       "    <tr>\n",
       "      <th>2</th>\n",
       "      <td>01</td>\n",
       "      <td>2019</td>\n",
       "      <td>454606.24</td>\n",
       "    </tr>\n",
       "    <tr>\n",
       "      <th>3</th>\n",
       "      <td>01</td>\n",
       "      <td>2020</td>\n",
       "      <td>601204.89</td>\n",
       "    </tr>\n",
       "    <tr>\n",
       "      <th>4</th>\n",
       "      <td>01</td>\n",
       "      <td>2021</td>\n",
       "      <td>639321.08</td>\n",
       "    </tr>\n",
       "  </tbody>\n",
       "</table>\n",
       "</div>"
      ],
      "text/plain": [
       "  arrondissement  annee  valeur_fonciere\n",
       "0             01   2017        530392.41\n",
       "1             01   2018        581390.37\n",
       "2             01   2019        454606.24\n",
       "3             01   2020        601204.89\n",
       "4             01   2021        639321.08"
      ]
     },
     "execution_count": 21,
     "metadata": {},
     "output_type": "execute_result"
    }
   ],
   "source": [
    "data_prix_arrondissement = data_historique_appartements.groupby(['arrondissement', 'annee'])['valeur_fonciere'].mean().reset_index()\n",
    "data_prix_arrondissement.head()"
   ]
  },
  {
   "cell_type": "code",
   "execution_count": 22,
   "id": "4eeb6acb",
   "metadata": {},
   "outputs": [
    {
     "data": {
      "image/png": "[encoded data removed]",
      "text/plain": [
       "<Figure size 1000x600 with 1 Axes>"
      ]
     },
     "metadata": {},
     "output_type": "display_data"
    }
   ],
   "source": [
    "#Création d'un graphique pour visualiser la hausse de la moyenne des prix au metre carré dans le premier arrondissement\n",
    "data_prix_arrondissement_01 = data_prix_arrondissement[data_prix_arrondissement['arrondissement'] =='01']\n",
    "plt.figure(figsize=(10,6))\n",
    "plt.plot(data_prix_arrondissement_01['annee'],data_prix_arrondissement_01['valeur_fonciere'], color='red')\n",
    "plt.xlabel('Années de vente des appartements dans larrondissement 75001')\n",
    "plt.ylabel('Montant moyen de vente des appartements')\n",
    "formatter = ticker.FormatStrFormatter('€%d')\n",
    "plt.gca().yaxis.set_major_formatter(formatter)\n",
    "plt.grid()\n",
    "plt.title('Evolution du prix au m² dans le premier arrondissement')\n",
    "plt.show()"
   ]
  },
  {
   "cell_type": "markdown",
   "id": "876fd6f0",
   "metadata": {},
   "source": [
    "Nous allons ajouter à cette visualisation tous les autres arrondissement avec une couleur différente."
   ]
  },
  {
   "cell_type": "code",
   "execution_count": 23,
   "id": "3e44b45d",
   "metadata": {},
   "outputs": [
    {
     "name": "stdout",
     "output_type": "stream",
     "text": [
      "['01' '02' '03' '04' '05' '06' '07' '08' '09' '10' '11' '12' '13' '14'\n",
      " '15' '16' '17' '18' '19' '20']\n"
     ]
    }
   ],
   "source": [
    "arrondissements = data_prix_arrondissement['arrondissement'].unique()\n",
    "print(arrondissements)"
   ]
  },
  {
   "cell_type": "code",
   "execution_count": 24,
   "id": "65535120",
   "metadata": {},
   "outputs": [
    {
     "data": {
      "image/png": "[encoded data removed]",
      "text/plain": [
       "<Figure size 1500x1500 with 1 Axes>"
      ]
     },
     "metadata": {},
     "output_type": "display_data"
    }
   ],
   "source": [
    "#On affiche l'évolution du prix au m² par arrondissement dans Paris\n",
    "plt.figure(figsize=(15,15))\n",
    "\n",
    "#Insérer les lignes à tracer ci-dessous\n",
    "\n",
    "\n",
    "for i, arrondissement in enumerate(arrondissements):\n",
    "    \n",
    "    data_arrondissement = data_prix_arrondissement[data_prix_arrondissement['arrondissement'] == arrondissement]\n",
    "plt.plot(data_arrondissement['annee'], data_arrondissement['valeur_fonciere'], label=f\"Arrondissement {arrondissement}\"),\n",
    "plt.xlabel('Années de vente des appartements')\n",
    "plt.ylabel('Montant moyen de vente des appartements')\n",
    "formatter = ticker.FormatStrFormatter('€%d')\n",
    "plt.gca().yaxis.set_major_formatter(formatter)\n",
    "plt.grid()\n",
    "plt.title('Evolution du prix au m² par arrondissement à Paris')\n",
    "plt.legend(loc='upper left')\n",
    "plt.show()"
   ]
  },
  {
   "cell_type": "markdown",
   "id": "4a87ed50",
   "metadata": {},
   "source": [
    "On observe que globalement que ?"
   ]
  },
  {
   "cell_type": "markdown",
   "id": "20631df9",
   "metadata": {},
   "source": [
    "### 7. Prix au metre carré par transaction dans un arrondissement"
   ]
  },
  {
   "cell_type": "code",
   "execution_count": 25,
   "id": "066de112",
   "metadata": {},
   "outputs": [
    {
     "name": "stdout",
     "output_type": "stream",
     "text": [
      "Nombre de transactions dans le 6ème arrondissement : 709\n"
     ]
    }
   ],
   "source": [
    "#Vérifions le nombre de transaction dans le 6ème car le prix semble élevé\n",
    "\n",
    "nombre_transactions_6eme = data_historique_appartements[data_historique_appartements['code_postal'] == '75006'].shape[0]\n",
    "print(\"Nombre de transactions dans le 6ème arrondissement :\", nombre_transactions_6eme)"
   ]
  },
  {
   "cell_type": "markdown",
   "id": "16586dcf",
   "metadata": {},
   "source": [
    "On constate que ?\n",
    "\n",
    "Affichons l'historique des transactions pour visualiser la dispersion des données :"
   ]
  },
  {
   "cell_type": "code",
   "execution_count": 26,
   "id": "5da39cb8",
   "metadata": {},
   "outputs": [
    {
     "data": {
      "image/png": "[encoded data removed]",
      "text/plain": [
       "<Figure size 1500x1500 with 1 Axes>"
      ]
     },
     "metadata": {},
     "output_type": "display_data"
    }
   ],
   "source": [
    "cp=75006\n",
    "plt.figure(figsize=(15,15))\n",
    "#Insérer ci-dessous le scatter plot\n",
    "data_6eme = data_prix_arrondissement[data_prix_arrondissement['arrondissement'] == '06']\n",
    "plt.scatter(data_6eme['annee'], data_6eme['valeur_fonciere'], s=10, color='blue')\n",
    "plt.xlabel('Date de vente des appartements dans larrondissement 75006')\n",
    "plt.ylabel('Prix du metre carre à la vente des appartements')\n",
    "formatter = ticker.FormatStrFormatter('€%d')\n",
    "plt.gca().yaxis.set_major_formatter(formatter)\n",
    "\n",
    "plt.grid(which='both')\n",
    "plt.title('Historique des transactions dans le sixieme arrondissement')\n",
    "plt.show()"
   ]
  },
  {
   "cell_type": "markdown",
   "id": "3a4245f6",
   "metadata": {},
   "source": [
    "On observe que ?\n",
    "\n",
    "Pour nous rassurer sur la relation entre les données nous allons utiliser un test statistique de corrélation."
   ]
  },
  {
   "cell_type": "markdown",
   "id": "61988c31",
   "metadata": {},
   "source": [
    "### 8. Vérification de la relation entre le prix au m² et la date dans le 6ème arrondissement par le calcul du coefficient de corrélation de Pearson "
   ]
  },
  {
   "cell_type": "markdown",
   "id": "9c715d9c",
   "metadata": {},
   "source": [
    "Pour cette distribution nous allons calculer le coefficient de corrélation de Pearson. La relation entre le prix au metre carré et la date n'est pas forcément linéaire mais elle s'en rapproche suffisamment pour que cette analyse soit pertinente (voir l'évolution du prix au metre carré globale montrée plus haut, on a presque une droite sauf entre 2020 et 2021). Ce qui nous interesse c'est de prouver que le temps a une influence sur le prix."
   ]
  },
  {
   "cell_type": "code",
   "execution_count": 99,
   "id": "b184dd2c",
   "metadata": {},
   "outputs": [
    {
     "name": "stderr",
     "output_type": "stream",
     "text": [
      "C:\\Users\\doung\\AppData\\Local\\Temp\\ipykernel_18940\\1194994012.py:3: FutureWarning: The default value of numeric_only in DataFrame.corr is deprecated. In a future version, it will default to False. Select only valid columns or specify the value of numeric_only to silence this warning.\n",
      "  correlation_spearman = data_prix_arrondissement.corr(method='spearman')\n"
     ]
    }
   ],
   "source": [
    "#On calcule la corrélation de Spearman\n",
    "from scipy import stats\n",
    "correlation_spearman = data_prix_arrondissement.corr(method='spearman')"
   ]
  },
  {
   "cell_type": "markdown",
   "id": "82a5fbab",
   "metadata": {},
   "source": [
    "Le coefficient de corrélation est de ? avec une pvalue de ? donc nous pouvons confirmer la corrélation."
   ]
  },
  {
   "cell_type": "code",
   "execution_count": 101,
   "id": "49b24a22",
   "metadata": {},
   "outputs": [
    {
     "data": {
      "text/html": [
       "<div>\n",
       "<style scoped>\n",
       "    .dataframe tbody tr th:only-of-type {\n",
       "        vertical-align: middle;\n",
       "    }\n",
       "\n",
       "    .dataframe tbody tr th {\n",
       "        vertical-align: top;\n",
       "    }\n",
       "\n",
       "    .dataframe thead th {\n",
       "        text-align: right;\n",
       "    }\n",
       "</style>\n",
       "<table border=\"1\" class=\"dataframe\">\n",
       "  <thead>\n",
       "    <tr style=\"text-align: right;\">\n",
       "      <th></th>\n",
       "      <th>annee</th>\n",
       "      <th>valeur_fonciere</th>\n",
       "    </tr>\n",
       "  </thead>\n",
       "  <tbody>\n",
       "    <tr>\n",
       "      <th>annee</th>\n",
       "      <td>1.00</td>\n",
       "      <td>0.14</td>\n",
       "    </tr>\n",
       "    <tr>\n",
       "      <th>valeur_fonciere</th>\n",
       "      <td>0.14</td>\n",
       "      <td>1.00</td>\n",
       "    </tr>\n",
       "  </tbody>\n",
       "</table>\n",
       "</div>"
      ],
      "text/plain": [
       "                 annee  valeur_fonciere\n",
       "annee             1.00             0.14\n",
       "valeur_fonciere   0.14             1.00"
      ]
     },
     "metadata": {},
     "output_type": "display_data"
    }
   ],
   "source": [
    "display(correlation_spearman)"
   ]
  },
  {
   "cell_type": "markdown",
   "id": "8d3978f5",
   "metadata": {},
   "source": [
    "### 9. Vérification de la relation entre la valeur fonciere et la surface"
   ]
  },
  {
   "cell_type": "code",
   "execution_count": null,
   "id": "c8c11d53",
   "metadata": {},
   "outputs": [],
   "source": []
  },
  {
   "cell_type": "markdown",
   "id": "d428ff7e",
   "metadata": {},
   "source": [
    "Le coefficient de corrélation est de ? avec une pvalue de ?. La relation est donc confirmée."
   ]
  },
  {
   "cell_type": "markdown",
   "id": "35a150eb",
   "metadata": {},
   "source": [
    "Regardons maintenant si le type de bien à une influence sur le prix au metre carré également."
   ]
  },
  {
   "cell_type": "markdown",
   "id": "ee061e7d",
   "metadata": {},
   "source": [
    "### 10. Analyse des locaux industriels, commerciaux et assimilés "
   ]
  },
  {
   "cell_type": "code",
   "execution_count": 18,
   "id": "cfd7bc23",
   "metadata": {},
   "outputs": [],
   "source": [
    "#On crée un dataset qui ne contient que les locaux commerciaux\n"
   ]
  },
  {
   "cell_type": "code",
   "execution_count": 19,
   "id": "c31ec545",
   "metadata": {},
   "outputs": [],
   "source": [
    "#Préparons un dataframe en regroupant les prix au metre carré moyens des ventes par année\n"
   ]
  },
  {
   "cell_type": "code",
   "execution_count": 20,
   "id": "e5a2bf27",
   "metadata": {},
   "outputs": [
    {
     "data": {
      "image/png": "[encoded data removed]",
      "text/plain": [
       "<Figure size 720x720 with 1 Axes>"
      ]
     },
     "metadata": {
      "needs_background": "light"
     },
     "output_type": "display_data"
    }
   ],
   "source": [
    "#Création d'un graphique pour visualiser la hausse de la moyenne des prix\n",
    "plt.figure(figsize=(10,10))\n",
    "plt.plot(['2017','2018','2019','2020','2021'],label='locaux commerciaux',color='blue')\n",
    "plt.plot(['2017','2018','2019','2020','2021'],label='appartements',color='red')\n",
    "plt.xlabel('Années de vente')\n",
    "plt.ylabel('Montant du prix au metre carré')\n",
    "plt.legend()\n",
    "formatter = ticker.FormatStrFormatter('€%d')\n",
    "plt.gca().yaxis.set_major_formatter(formatter)\n",
    "plt.grid()\n",
    "plt.title('Evolution des prix au metre carré ')\n",
    "plt.show()"
   ]
  },
  {
   "cell_type": "markdown",
   "id": "1b1626cb",
   "metadata": {},
   "source": [
    "Le prix au metre carré des locaux commerciaux est ?"
   ]
  },
  {
   "cell_type": "markdown",
   "id": "f766d471",
   "metadata": {},
   "source": [
    "Après ces analyses, nous pouvons conclure que les dimensions à utiliser pour prédire le prix au m² sont : \n",
    "- la surface du bien immobilier,\n",
    "- la date considérée, \n",
    "- la localisation (code_postal), \n",
    "- le type de bien."
   ]
  },
  {
   "cell_type": "markdown",
   "id": "0a546f7d",
   "metadata": {},
   "source": [
    "# Milestone 2 - Entraînement de l'algorithme"
   ]
  },
  {
   "cell_type": "markdown",
   "id": "8f756b84",
   "metadata": {},
   "source": [
    "Dans cette section nous allons maintenant entrâiner un algorithme à prédire la valeur fonciere d'un bien immobilier. Pour cela nous allons utiliser l'algorithme de régression linéaire."
   ]
  },
  {
   "cell_type": "markdown",
   "id": "917f244b",
   "metadata": {},
   "source": [
    "On commence par préparer nos données en transformant les colonnes catégoriques du code postal et du type de local grâce au one hot encoder (sklearn) / get_dummies (pandas)"
   ]
  },
  {
   "cell_type": "code",
   "execution_count": null,
   "id": "823b0401",
   "metadata": {},
   "outputs": [],
   "source": []
  },
  {
   "cell_type": "markdown",
   "id": "843bd9ed",
   "metadata": {},
   "source": [
    "On utilise le train_test_split pour prélever un tiers de nos données (33%) et les garder de côté. Nous allons entraîner notre algorithme sur le reste des données et puis mesurer notre erreur moyenne en pourcentage de la valeur foncière"
   ]
  },
  {
   "cell_type": "code",
   "execution_count": 21,
   "id": "972730c1",
   "metadata": {},
   "outputs": [],
   "source": [
    "# On importe le train test split de la librairie sk_learn\n",
    "from sklearn.model_selection import train_test_split\n",
    "# La valeur y à trouver est la valeur foncière\n",
    "X_train, X_test, y_train, y_test = ['?','?','?','?']"
   ]
  },
  {
   "cell_type": "code",
   "execution_count": 22,
   "id": "fd3a7286",
   "metadata": {},
   "outputs": [],
   "source": [
    "#conversion des données en str\n"
   ]
  },
  {
   "cell_type": "code",
   "execution_count": 23,
   "id": "84d38146",
   "metadata": {},
   "outputs": [],
   "source": [
    "from sklearn.linear_model import LinearRegression\n",
    "#On entraîne l'algorithme ci-dessous et on effectue la prédiction\n"
   ]
  },
  {
   "cell_type": "markdown",
   "id": "178309e5",
   "metadata": {},
   "source": [
    "Notre algorithme fait donc ? % d'erreur en moyenne sur la prédiction de la valeur foncière.\n",
    "\n",
    "Mes conclusions sur ce résultat et comment j'aurais pu aller plus loin :\n",
    "- ?\n",
    "- ?\n",
    "- ?\n",
    "- ?"
   ]
  },
  {
   "cell_type": "markdown",
   "id": "8057b17c",
   "metadata": {},
   "source": [
    "# Milestone 3 - Prédiction définitive pour le client "
   ]
  },
  {
   "cell_type": "markdown",
   "id": "9c696fd8",
   "metadata": {},
   "source": [
    "Nous avons récupéré le fichier avec le portefeuille des actifs de la société. Nous allons l'importer puis effectuer la prédiction et statuer sur la branche qui, selon notre prédiction, aura le plus de valeur à la date demandée c'est à dire au 31 décembre 2022.<br>\n",
    "Petite précision, nous souhaitons continuer à utiliser la surface réelle pour faire les calculs et pas la surface carrez. "
   ]
  },
  {
   "cell_type": "code",
   "execution_count": 24,
   "id": "9263e666",
   "metadata": {},
   "outputs": [],
   "source": [
    "#On importe les données dans un dataframe\n"
   ]
  },
  {
   "cell_type": "markdown",
   "id": "736a5380",
   "metadata": {},
   "source": [
    "Nous avons la liste des biens immobiliers de l'entreprise. Pour effectuer une prédiction, nous devons mettre ce fichier au même format que le dataframe que nous avons utilisé lors de l'entraînement de l'algorithme."
   ]
  },
  {
   "cell_type": "code",
   "execution_count": 25,
   "id": "4d6a8b40",
   "metadata": {},
   "outputs": [],
   "source": [
    "#On réutilise les mêmes fonctions pour faire le one hot encoding des variables catégorielles\n",
    "\n",
    "#On importe la librairie datetime pour pouvoir créer une colonne timestamp avec la date du 31 décembre 2022 pour la prédiction\n",
    "import datetime as dt\n"
   ]
  },
  {
   "cell_type": "code",
   "execution_count": 26,
   "id": "92c0fab1",
   "metadata": {},
   "outputs": [],
   "source": [
    "#Conversion du dataframe en str\n"
   ]
  },
  {
   "cell_type": "markdown",
   "id": "fbb93276",
   "metadata": {},
   "source": [
    "Notre dataframe est prêt à être utilisé par notre algorithme de prédiction."
   ]
  },
  {
   "cell_type": "code",
   "execution_count": 27,
   "id": "c39e7427",
   "metadata": {},
   "outputs": [],
   "source": [
    "#On effectue la prédiction\n",
    "\n",
    "#On vérifie les 10 premières valeurs\n"
   ]
  },
  {
   "cell_type": "markdown",
   "id": "718df322",
   "metadata": {},
   "source": [
    "Maintenant nous allons comparer la valorisation prédite pour les deux segments."
   ]
  },
  {
   "cell_type": "code",
   "execution_count": null,
   "id": "5bfd4ef3",
   "metadata": {},
   "outputs": [],
   "source": []
  },
  {
   "cell_type": "code",
   "execution_count": 28,
   "id": "12094465",
   "metadata": {},
   "outputs": [
    {
     "name": "stdout",
     "output_type": "stream",
     "text": [
      "la valorisation du segment particulier est (en millions deuros):\n"
     ]
    }
   ],
   "source": [
    "#Valorisation du portefeuille sur le segment des particuliers\n",
    "print('la valorisation du segment particulier est (en millions deuros):')\n"
   ]
  },
  {
   "cell_type": "code",
   "execution_count": 29,
   "id": "b6df7e85",
   "metadata": {},
   "outputs": [
    {
     "name": "stdout",
     "output_type": "stream",
     "text": [
      "la valorisation du segment corporate est (en millions deuros):\n"
     ]
    }
   ],
   "source": [
    "#Valorisation du portefeuille sur le segment corporate\n",
    "print('la valorisation du segment corporate est (en millions deuros):')\n"
   ]
  },
  {
   "cell_type": "markdown",
   "id": "0372ca62",
   "metadata": {},
   "source": [
    "Mes conclusions sur le segment avec la plus grande valorisation et sur les limites de cette estimation :\n",
    "- ?\n",
    "- ?"
   ]
  },
  {
   "cell_type": "markdown",
   "id": "1c20b98f",
   "metadata": {},
   "source": [
    "# Milestone 4 - Classification des données issues du jeu de test"
   ]
  },
  {
   "cell_type": "markdown",
   "id": "130e73ae",
   "metadata": {},
   "source": [
    "Dans cette partie nous allons labelliser automatiquement les biens immobiliers comme étant :\n",
    "- soit des Appartements\n",
    "- soit des Local industriel. commercial ou assimilé\n",
    "Pour cela nous allons utiliser l'algorithme du KMeans sur le jeu de données partagé par l'entreprise.\n",
    "\n",
    "Pour que l'algorithme fonctionne, il faut que nous préparions les données en supprimant les dimensions inutiles et en nous concentrant sur le facteur discriminant entre les appartements et les locaux commerciaux : la différence dans le prix au mètre carré tel que nous l'avons vu avant."
   ]
  },
  {
   "cell_type": "code",
   "execution_count": 30,
   "id": "a2f508e6",
   "metadata": {},
   "outputs": [],
   "source": [
    "#On importe les données dans un dataframe\n"
   ]
  },
  {
   "cell_type": "markdown",
   "id": "fbf40fbf",
   "metadata": {},
   "source": [
    "On applique les transformations nécessaires. Tout d'abord nous allons calculer le prix au mètre carré en divisant la valeur foncière par la surface. Ensuite nous allons retirer ces colonnes car nous avons déjà l'information qu'elles contiennent dans la dimension prix au mètre carré désormais.\n",
    "\n",
    "Enfin toutes nos données sont de l'année 2021. Nous allons retirer cette dimension qui ne devrait pas être discriminante dans le regroupement des données."
   ]
  },
  {
   "cell_type": "code",
   "execution_count": null,
   "id": "d724e82e",
   "metadata": {},
   "outputs": [],
   "source": []
  },
  {
   "cell_type": "markdown",
   "id": "d3cd06b4",
   "metadata": {},
   "source": [
    "Nous observons dans les données que nous avons des valeurs différentes de prix au mètre carré pour un même arrondissement (ici le 19ème arrondissement). Il se peut fort que cela soit notre dimension à utiliser pour attribuer les prix au mètre carré les plus élévé dans un département aux locaux commerciaux, et les prix les plus bas aux appartements.\n",
    "\n",
    "Pour effectuer cette opération, nous allons utiliser l'algorithme du Kmeans qui va rechercher 2 centroïdes à travers les données."
   ]
  },
  {
   "cell_type": "code",
   "execution_count": 31,
   "id": "4cd15e98",
   "metadata": {},
   "outputs": [],
   "source": [
    "from sklearn.cluster import KMeans\n"
   ]
  },
  {
   "cell_type": "code",
   "execution_count": 32,
   "id": "a9fd14d2",
   "metadata": {},
   "outputs": [],
   "source": [
    "# On vérifie les données de la prédiction\n"
   ]
  },
  {
   "cell_type": "markdown",
   "id": "b19ee04c",
   "metadata": {},
   "source": [
    "Nous avons obtenu notre prédiction. Nous pouvons changer les labels et remplacer les valeurs à 0 par Local industriel. commercial ou assimilé et les valeurs à +1 par Appartement. "
   ]
  },
  {
   "cell_type": "code",
   "execution_count": 33,
   "id": "ecb1ec6a",
   "metadata": {},
   "outputs": [],
   "source": [
    "#On affiche les résultats\n"
   ]
  },
  {
   "cell_type": "markdown",
   "id": "cea621ed",
   "metadata": {},
   "source": [
    "# Milestone 5 - Analyse et présentation des résultats"
   ]
  },
  {
   "cell_type": "markdown",
   "id": "9553046e",
   "metadata": {},
   "source": [
    "Mes conclusions sur l'analyse et les limites de l'exercice :\n",
    "- ?\n",
    "- ?"
   ]
  }
 ],
 "metadata": {
  "kernelspec": {
   "display_name": "Python 3 (ipykernel)",
   "language": "python",
   "name": "python3"
  },
  "language_info": {
   "codemirror_mode": {
    "name": "ipython",
    "version": 3
   },
   "file_extension": ".py",
   "mimetype": "text/x-python",
   "name": "python",
   "nbconvert_exporter": "python",
   "pygments_lexer": "ipython3",
   "version": "3.10.9"
  }
 },
 "nbformat": 4,
 "nbformat_minor": 5
}
